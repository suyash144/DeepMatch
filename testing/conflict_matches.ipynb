{
 "cells": [
  {
   "cell_type": "code",
   "execution_count": 34,
   "metadata": {},
   "outputs": [],
   "source": [
    "import numpy as np\n",
    "import os, sys\n",
    "sys.path.insert(0,os.getcwd())\n",
    "sys.path.insert(0,os.path.dirname(os.getcwd()))\n",
    "import isi_corr\n",
    "import dnn_dist\n",
    "import pandas as pd\n",
    "import matplotlib.pyplot as plt\n",
    "from tqdm import tqdm"
   ]
  },
  {
   "cell_type": "code",
   "execution_count": 21,
   "metadata": {},
   "outputs": [],
   "source": [
    "def get_matches(mt, mt_path, rec1, rec2, dnn_metric=\"DNNSim\", um_metric=\"MatchProb\", dist_thresh=None):\n",
    "    mt = mt.loc[(mt[\"RecSes1\"].isin([rec1,rec2])) & (mt[\"RecSes2\"].isin([rec1,rec2])),:]\n",
    "    if len(mt) < 20:\n",
    "        return None, None\n",
    "    try:\n",
    "        thresh = dnn_dist.get_threshold(mt, metric=dnn_metric, vis=False)\n",
    "    except:\n",
    "        return None, None\n",
    "    if um_metric==\"MatchProb\":\n",
    "        thresh_um=0.5\n",
    "    else:\n",
    "        if um_metric==\"ScoreExclCentroid\":\n",
    "            col = mt.loc[:, \"WavformSim\":\"LocTrajectorySim\"]\n",
    "            mt[um_metric] = col.mean(axis=1)\n",
    "        thresh_um = dnn_dist.get_threshold(mt, metric=um_metric, vis=False)\n",
    "    within = mt.loc[(mt[\"RecSes1\"]==mt[\"RecSes2\"]), [dnn_metric, \"ISICorr\", \"ID1\", \"ID2\", um_metric]]                                              # Only keep within-day bits\n",
    "    across = mt.loc[(mt[\"RecSes1\"]!=mt[\"RecSes2\"]), [dnn_metric, \"ISICorr\", um_metric, \"RecSes1\", \"RecSes2\", \"ID1\", \"ID2\"]]                        # Only keep across-day bits\n",
    "\n",
    "    # Correct for different median similarities between within- and across-day sets.\n",
    "    diff = np.median(within[dnn_metric]) - np.median(across[dnn_metric])\n",
    "    thresh = thresh - diff\n",
    "\n",
    "    diff_um = np.median(within[um_metric]) - np.median(across[um_metric])\n",
    "    thresh_um = thresh_um - diff_um\n",
    "\n",
    "    matches_across = across.loc[mt[dnn_metric]>=thresh, [\"ISICorr\", \"RecSes1\", \"RecSes2\", \"ID1\", \"ID2\"]]\n",
    "    um_matches = across.loc[mt[um_metric]>=thresh_um, [\"ISICorr\", \"RecSes1\", \"RecSes2\", \"ID1\", \"ID2\"]]\n",
    "    if len(matches_across)==0:\n",
    "        print(\"no DNN matches found!\")\n",
    "        return None, None\n",
    "    matches_across = isi_corr.spatial_filter(mt_path, matches_across, dist_thresh, plot_drift=False)\n",
    "    return matches_across, um_matches\n",
    "\n",
    "\n",
    "test_data_root = os.path.join(os.path.dirname(os.path.dirname(os.getcwd())), \"R_DATA_UnitMatch\")\n",
    "mt_path = os.path.join(test_data_root, \"AL036\", \"19011116882\", \"3\", \"new_matchtable.csv\") \n",
    "dnn_matches, um_matches = get_matches(mt_path, 4,5)"
   ]
  },
  {
   "cell_type": "code",
   "execution_count": 33,
   "metadata": {},
   "outputs": [
    {
     "data": {
      "image/png": "[encoded data removed]",
      "text/plain": [
       "<Figure size 640x480 with 1 Axes>"
      ]
     },
     "metadata": {},
     "output_type": "display_data"
    }
   ],
   "source": [
    "def conflicts(matches):\n",
    "    conflicts = []\n",
    "    for idx, match in matches.iterrows():\n",
    "        id1 = match[\"ID1\"]\n",
    "        id2 = match[\"ID2\"]\n",
    "        r1 = match[\"RecSes1\"]\n",
    "        r2 = match[\"RecSes2\"]\n",
    "\n",
    "        neuron1=matches.loc[(matches[\"ID1\"]==id1) & (matches[\"RecSes1\"]==r1),:]\n",
    "        if len(neuron1)>1:\n",
    "            conflicts.append((r1,id1,r2,id2))\n",
    "        \n",
    "        neuron2=matches.loc[(matches[\"ID2\"]==id2) & (matches[\"RecSes2\"]==r2),:]\n",
    "        if len(neuron2)>1:\n",
    "            conflicts.append((r1,id1,r2,id2))\n",
    "    return set(conflicts)\n",
    "\n",
    "mt = pd.read_csv(mt_path)\n",
    "sessions = set(mt[\"RecSes1\"].unique())\n",
    "\n",
    "conflict_matches_dnn = []\n",
    "conflict_matches_um = []\n",
    "for r1 in sessions:\n",
    "    for r2 in sessions:\n",
    "        if r1>=r2:\n",
    "            continue\n",
    "        dnn_matches, um_matches = get_matches(mt, mt_path, r1, r2)\n",
    "        conflict_matches_dnn.append(len(conflicts(dnn_matches)))\n",
    "        conflict_matches_um.append(len(conflicts(um_matches)))\n",
    "plt.hist(conflict_matches_dnn, bins = 100, label=\"DNN\", color=\"r\")\n",
    "plt.hist(conflict_matches_um, bins = 100, label=\"UM\", color=\"b\")\n",
    "plt.xlabel(\"Number of conflict matches\")\n",
    "plt.show()"
   ]
  }
 ],
 "metadata": {
  "kernelspec": {
   "display_name": "unitmatch",
   "language": "python",
   "name": "python3"
  },
  "language_info": {
   "codemirror_mode": {
    "name": "ipython",
    "version": 3
   },
   "file_extension": ".py",
   "mimetype": "text/x-python",
   "name": "python",
   "nbconvert_exporter": "python",
   "pygments_lexer": "ipython3",
   "version": "3.12.4"
  }
 },
 "nbformat": 4,
 "nbformat_minor": 2
}
