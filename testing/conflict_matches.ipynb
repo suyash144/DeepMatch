{
 "cells": [
  {
   "cell_type": "code",
   "execution_count": 1,
   "metadata": {},
   "outputs": [],
   "source": [
    "import numpy as np\n",
    "import os, sys\n",
    "sys.path.insert(0,os.getcwd())\n",
    "sys.path.insert(0,os.path.dirname(os.getcwd()))\n",
    "import isi_corr\n",
    "import dnn_dist\n",
    "from utils.myutil import mtpath_to_expids, exp_id_to_date\n",
    "import pandas as pd\n",
    "import matplotlib.pyplot as plt\n",
    "from tqdm import tqdm"
   ]
  },
  {
   "cell_type": "code",
   "execution_count": 40,
   "metadata": {},
   "outputs": [],
   "source": [
    "def get_matches(mt, mt_path, rec1, rec2, dnn_metric=\"DNNSim\", um_metric=\"MatchProb\", dist_thresh=None):\n",
    "    mt = mt.loc[(mt[\"RecSes1\"].isin([rec1,rec2])) & (mt[\"RecSes2\"].isin([rec1,rec2])),:]\n",
    "    if len(mt) < 20:\n",
    "        return None, None\n",
    "    try:\n",
    "        thresh = dnn_dist.get_threshold(mt, metric=dnn_metric, vis=False)\n",
    "    except:\n",
    "        return None, None\n",
    "    if um_metric==\"MatchProb\":\n",
    "        thresh_um=0.5\n",
    "    else:\n",
    "        if um_metric==\"ScoreExclCentroid\":\n",
    "            col = mt.loc[:, \"WavformSim\":\"LocTrajectorySim\"]\n",
    "            mt[um_metric] = col.mean(axis=1)\n",
    "        thresh_um = dnn_dist.get_threshold(mt, metric=um_metric, vis=False)\n",
    "    within = mt.loc[(mt[\"RecSes1\"]==mt[\"RecSes2\"]), [dnn_metric, \"ISICorr\", \"ID1\", \"ID2\", um_metric]]                                              # Only keep within-day bits\n",
    "    across = mt.loc[(mt[\"RecSes1\"]!=mt[\"RecSes2\"]), [dnn_metric, \"ISICorr\", um_metric, \"RecSes1\", \"RecSes2\", \"ID1\", \"ID2\"]]                        # Only keep across-day bits\n",
    "\n",
    "    # Correct for different median similarities between within- and across-day sets.\n",
    "    diff = np.median(within[dnn_metric]) - np.median(across[dnn_metric])\n",
    "    thresh = thresh - diff\n",
    "\n",
    "    diff_um = np.median(within[um_metric]) - np.median(across[um_metric])\n",
    "    thresh_um = thresh_um - diff_um\n",
    "\n",
    "    matches_across = across.loc[mt[dnn_metric]>=thresh, [\"ISICorr\", \"RecSes1\", \"RecSes2\", \"ID1\", \"ID2\"]]\n",
    "    um_matches = across.loc[mt[um_metric]>=thresh_um, [\"ISICorr\", \"RecSes1\", \"RecSes2\", \"ID1\", \"ID2\"]]\n",
    "    if len(matches_across)==0:\n",
    "        print(\"no DNN matches found!\")\n",
    "        return None, None\n",
    "    matches_across = isi_corr.spatial_filter(mt_path, matches_across, dist_thresh, plot_drift=False)\n",
    "    return matches_across, um_matches\n",
    "\n",
    "\n",
    "test_data_root = os.path.join(os.path.dirname(os.path.dirname(os.getcwd())), \"R_DATA_UnitMatch\")\n",
    "mt_path = os.path.join(test_data_root, \"AL036\", \"19011116882\", \"3\", \"new_matchtable.csv\") \n",
    "mt = pd.read_csv(mt_path)\n",
    "dnn_matches, um_matches = get_matches(mt, mt_path, 4,5)"
   ]
  },
  {
   "cell_type": "code",
   "execution_count": 43,
   "metadata": {},
   "outputs": [
    {
     "data": {
      "image/png": "[encoded data removed]",
      "text/plain": [
       "<Figure size 640x480 with 1 Axes>"
      ]
     },
     "metadata": {},
     "output_type": "display_data"
    }
   ],
   "source": [
    "def conflicts(matches, prop:bool):\n",
    "    conflicts = []\n",
    "    for idx, match in matches.iterrows():\n",
    "        id1 = match[\"ID1\"]\n",
    "        id2 = match[\"ID2\"]\n",
    "        r1 = match[\"RecSes1\"]\n",
    "        r2 = match[\"RecSes2\"]\n",
    "\n",
    "        neuron1=matches.loc[(matches[\"ID1\"]==id1) & (matches[\"RecSes1\"]==r1),:]\n",
    "        if len(neuron1)>1:\n",
    "            conflicts.append((r1,id1,r2,id2))\n",
    "        \n",
    "        neuron2=matches.loc[(matches[\"ID2\"]==id2) & (matches[\"RecSes2\"]==r2),:]\n",
    "        if len(neuron2)>1:\n",
    "            conflicts.append((r1,id1,r2,id2))\n",
    "    if not prop:\n",
    "        return len(set(conflicts))\n",
    "    else:\n",
    "        return len(set(conflicts))/len(matches)\n",
    "\n",
    "mt = pd.read_csv(mt_path)\n",
    "sessions = set(mt[\"RecSes1\"].unique())\n",
    "\n",
    "conflict_matches_dnn = []\n",
    "conflict_matches_um = []\n",
    "for r1 in sessions:\n",
    "    for r2 in sessions:\n",
    "        if r1>=r2:\n",
    "            continue\n",
    "        dnn_matches, um_matches = get_matches(mt, mt_path, r1, r2)\n",
    "        conflict_matches_dnn.append(conflicts(dnn_matches, prop=True))\n",
    "        conflict_matches_um.append(conflicts(um_matches, prop=True))\n",
    "plt.hist(conflict_matches_dnn, bins = 100, label=\"DNN\", color=\"r\", alpha=0.5)\n",
    "plt.hist(conflict_matches_um, bins = 100, label=\"UM\", color=\"b\", alpha=0.5)\n",
    "plt.xlabel(\"Number of conflict matches\")\n",
    "plt.show()"
   ]
  },
  {
   "cell_type": "code",
   "execution_count": 7,
   "metadata": {},
   "outputs": [
    {
     "name": "stdout",
     "output_type": "stream",
     "text": [
      "128\n",
      "104\n"
     ]
    }
   ],
   "source": [
    "# TESTING DIRECTIONAL FILTER\n",
    "print(len(dnn_matches))\n",
    "filtered = isi_corr.directional_filter(dnn_matches)\n",
    "print(len(filtered))\n",
    "\n",
    "for idx, row in filtered.iterrows():\n",
    "    i1 = row[\"ID1\"]\n",
    "    i2 = row[\"ID2\"]\n",
    "    r1 = row[\"RecSes1\"]\n",
    "    r2 = row[\"RecSes2\"]\n",
    "    f = filtered.loc[\n",
    "            (filtered[\"RecSes1\"] == r2) & (filtered[\"ID1\"] == i2) & \n",
    "            (filtered[\"RecSes2\"] == r1) & (filtered[\"ID2\"] == i1)\n",
    "        ]\n",
    "    if f.empty:\n",
    "        print(\"MUNDO problemo\")"
   ]
  },
  {
   "cell_type": "code",
   "execution_count": 12,
   "metadata": {},
   "outputs": [],
   "source": [
    "# COUNTING SPLIT UNITS\n",
    "\n",
    "test_data_root = os.path.join(os.path.dirname(os.path.dirname(os.getcwd())), \"R_DATA_UnitMatch\")\n",
    "mt_path = os.path.join(test_data_root, \"AL036\", \"19011116882\", \"3\", \"new_matchtable.csv\")\n",
    "# mt_path = os.path.join(test_data_root, \"AL032\", \"19011111882\", \"2\", \"new_matchtable.csv\")\n",
    "# mt_path = os.path.join(test_data_root, \"AL031\", \"19011116684\", \"1\", \"new_matchtable.csv\")\n",
    "mt = pd.read_csv(mt_path)\n",
    "within = mt.loc[(mt[\"RecSes1\"]==mt[\"RecSes2\"]), [\"DNNSim\", \"ISICorr\", \"ID1\", \"ID2\", \"MatchProb\", \"RecSes1\", \"RecSes2\"]]\n",
    "across = mt.loc[(mt[\"RecSes1\"]!=mt[\"RecSes2\"]), [\"DNNSim\", \"ISICorr\", \"MatchProb\", \"RecSes1\", \"RecSes2\", \"ID1\", \"ID2\"]]\n",
    "thresh = dnn_dist.get_threshold(mt, metric=\"DNNSim\", vis=False)\n",
    "diff = np.median(within[\"DNNSim\"]) - np.median(across[\"DNNSim\"])\n",
    "thresh = thresh - diff\n",
    "split_units, without = isi_corr.remove_split_units(mt_path, within, thresh)"
   ]
  },
  {
   "cell_type": "code",
   "execution_count": 13,
   "metadata": {},
   "outputs": [
    {
     "data": {
      "text/plain": [
       "4.313000616142945"
      ]
     },
     "execution_count": 13,
     "metadata": {},
     "output_type": "execute_result"
    }
   ],
   "source": [
    "split_units"
   ]
  },
  {
   "cell_type": "code",
   "execution_count": 5,
   "metadata": {},
   "outputs": [
    {
     "name": "stderr",
     "output_type": "stream",
     "text": [
      "100%|██████████| 21/21 [02:07<00:00,  6.09s/it]\n",
      "100%|██████████| 21/21 [01:48<00:00,  5.15s/it]\n",
      "100%|██████████| 21/21 [01:32<00:00,  4.41s/it]\n",
      "100%|██████████| 21/21 [01:46<00:00,  5.06s/it]\n",
      "100%|██████████| 21/21 [01:29<00:00,  4.27s/it]\n",
      "100%|██████████| 21/21 [01:24<00:00,  4.01s/it]\n",
      "100%|██████████| 21/21 [01:16<00:00,  3.63s/it]\n",
      "100%|██████████| 21/21 [01:07<00:00,  3.21s/it]\n",
      "100%|██████████| 21/21 [00:56<00:00,  2.69s/it]\n",
      "100%|██████████| 21/21 [00:59<00:00,  2.84s/it]\n",
      "100%|██████████| 21/21 [00:49<00:00,  2.36s/it]\n",
      "100%|██████████| 21/21 [00:44<00:00,  2.10s/it]\n",
      "100%|██████████| 21/21 [00:38<00:00,  1.83s/it]\n",
      "100%|██████████| 21/21 [00:33<00:00,  1.58s/it]\n",
      "100%|██████████| 21/21 [00:26<00:00,  1.24s/it]\n",
      "100%|██████████| 21/21 [00:21<00:00,  1.03s/it]\n",
      "100%|██████████| 21/21 [00:17<00:00,  1.22it/s]\n",
      "100%|██████████| 21/21 [00:11<00:00,  1.90it/s]\n",
      "100%|██████████| 21/21 [00:08<00:00,  2.58it/s]\n",
      "100%|██████████| 21/21 [00:04<00:00,  4.99it/s]\n",
      "100%|██████████| 21/21 [00:00<?, ?it/s].64s/it]\n",
      "100%|██████████| 21/21 [18:42<00:00, 53.45s/it]\n"
     ]
    }
   ],
   "source": [
    "# REPRODUCING EXTENDED DATA FIG 5\n",
    "test_data_root = os.path.join(os.path.dirname(os.path.dirname(os.getcwd())), \"R_DATA_UnitMatch\")\n",
    "mt_path = os.path.join(test_data_root, \"AL036\", \"19011116882\", \"3\", \"new_matchtable.csv\")\n",
    "\n",
    "mt = pd.read_csv(mt_path)\n",
    "sessions = set(mt[\"RecSes1\"].unique())\n",
    "dnn_auc, um_auc, day1_d, day1_u, day2_d, day2_u, numbers_d, numbers_u = [], [], [], [], [], [], [], []\n",
    "exp_ids,_ = mtpath_to_expids(mt_path, mt)\n",
    "for r1 in tqdm(sessions):\n",
    "    for r2 in tqdm(sessions):\n",
    "        if r1>=r2:\n",
    "            continue\n",
    "        dnn, um, n_dnn, n_um = isi_corr.auc_one_pair(mt, r1, r2, mt_path=mt_path, dist_thresh=20)\n",
    "        date1 = exp_id_to_date(exp_ids[r1])\n",
    "        date2 = exp_id_to_date(exp_ids[r2])\n",
    "        if dnn is not None:\n",
    "            dnn_auc.append(dnn)\n",
    "            day1_d.append(date1)\n",
    "            day2_d.append(date2)\n",
    "            numbers_d.append(n_dnn)\n",
    "        if um is not None:\n",
    "            um_auc.append(um)\n",
    "            day1_u.append(date1)\n",
    "            day2_u.append(date2)\n",
    "            numbers_u.append(n_um)\n"
   ]
  },
  {
   "cell_type": "code",
   "execution_count": 20,
   "metadata": {},
   "outputs": [],
   "source": [
    "dnn = pd.DataFrame({\"DNN_day1\": pd.to_datetime(day1_d), \"DNN_day2\": pd.to_datetime(day2_d), \"DNNauc\": dnn_auc, \"DNN_n\":numbers_d})\n",
    "um = pd.DataFrame({\"UM_day1\": pd.to_datetime(day1_u), \"UM_day2\":pd.to_datetime(day2_u), \"UMauc\": um_auc, \"UM_n\": numbers_u})\n",
    "\n",
    "day0_dnn = min(min(dnn['DNN_day1']), min(dnn['DNN_day2']))\n",
    "day0_um = min(min(um['UM_day1']), min(um['UM_day2']))\n",
    "dnn['DNN_day1'] = (dnn['DNN_day1'] - day0_dnn).dt.days\n",
    "dnn['DNN_day2'] = (dnn['DNN_day2'] - day0_dnn).dt.days\n",
    "um['UM_day1'] = (um['UM_day1'] - day0_um).dt.days\n",
    "um['UM_day2'] = (um['UM_day2'] - day0_um).dt.days"
   ]
  },
  {
   "cell_type": "code",
   "execution_count": 32,
   "metadata": {},
   "outputs": [
    {
     "data": {
      "text/plain": [
       "<matplotlib.image.AxesImage at 0x13f44afb8f0>"
      ]
     },
     "execution_count": 32,
     "metadata": {},
     "output_type": "execute_result"
    },
    {
     "data": {
      "image/png": "[encoded data removed]",
      "text/plain": [
       "<Figure size 480x480 with 1 Axes>"
      ]
     },
     "metadata": {},
     "output_type": "display_data"
    }
   ],
   "source": [
    "output = np.empty((174,174))\n",
    "\n",
    "for idx, row in dnn.iterrows():\n",
    "    i = int(row[\"DNN_day1\"])\n",
    "    j = int(row[\"DNN_day2\"])\n",
    "\n",
    "    output[i,j] = row[\"DNNauc\"]\n",
    "\n",
    "plt.matshow(output)"
   ]
  },
  {
   "cell_type": "code",
   "execution_count": 39,
   "metadata": {},
   "outputs": [
    {
     "data": {
      "text/plain": [
       "<matplotlib.image.AxesImage at 0x13f42f30d70>"
      ]
     },
     "execution_count": 39,
     "metadata": {},
     "output_type": "execute_result"
    },
    {
     "data": {
      "image/png": "[encoded data removed]",
      "text/plain": [
       "<Figure size 480x480 with 1 Axes>"
      ]
     },
     "metadata": {},
     "output_type": "display_data"
    }
   ],
   "source": [
    "days = max(len(dnn[\"DNN_day1\"].unique()), len(dnn[\"DNN_day2\"].unique()))\n",
    "if len(dnn[\"DNN_day1\"].unique()) >= len(dnn[\"DNN_day2\"].unique()):\n",
    "    days = dnn[\"DNN_day1\"].unique()\n",
    "else:\n",
    "    days = dnn[\"DNN_day2\"].unique()\n",
    "output = np.empty((len(days), len(days)))\n",
    "\n",
    "for idx, row in dnn.iterrows():\n",
    "    i = np.where(days==row[\"DNN_day1\"])\n",
    "    j = np.where(days==row[\"DNN_day2\"])\n",
    "    output[i,j] = row[\"DNNauc\"]\n",
    "\n",
    "plt.matshow(output)"
   ]
  }
 ],
 "metadata": {
  "kernelspec": {
   "display_name": "unitmatch",
   "language": "python",
   "name": "python3"
  },
  "language_info": {
   "codemirror_mode": {
    "name": "ipython",
    "version": 3
   },
   "file_extension": ".py",
   "mimetype": "text/x-python",
   "name": "python",
   "nbconvert_exporter": "python",
   "pygments_lexer": "ipython3",
   "version": "3.12.4"
  }
 },
 "nbformat": 4,
 "nbformat_minor": 2
}
