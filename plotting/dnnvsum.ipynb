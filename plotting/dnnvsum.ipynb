{
 "cells": [
  {
   "cell_type": "code",
   "execution_count": 2,
   "metadata": {},
   "outputs": [],
   "source": [
    "import sys, os\n",
    "sys.path.insert(0, os.getcwd())\n",
    "sys.path.insert(0, os.path.dirname(os.getcwd()))\n",
    "sys.path.insert(0,os.path.join(os.path.dirname(os.getcwd()), \"testing\"))\n",
    "from testing.isi_corr import *\n",
    "\n",
    "def dnn_vs_um(mt_path:str):\n",
    "    mt = pd.read_csv(mt_path)\n",
    "    sessions = set(mt[\"RecSes1\"].unique())\n",
    "    dnn_auc, um_auc, numbers_d, numbers_u = [], [], [], []\n",
    "    for r1 in tqdm(sessions):\n",
    "        for r2 in tqdm(sessions):\n",
    "            if r1>=r2:\n",
    "                continue\n",
    "            dnn, um, n_dnn, n_um = auc_one_pair(mt, r1, r2, mt_path=mt_path, dist_thresh=20)\n",
    "            if dnn is not None and um is not None:\n",
    "                dnn_auc.append(dnn)\n",
    "                numbers_d.append(n_dnn)\n",
    "                um_auc.append(um)\n",
    "                numbers_u.append(n_um)\n",
    "    return dnn_auc, numbers_d, um_auc, numbers_u\n",
    "\n",
    "def dnn_vs_dnn(mt_path1:str, mt_path2:str):\n",
    "    mt1 = pd.read_csv(mt_path1)\n",
    "    mt2 = pd.read_csv(mt_path2)\n",
    "    sessions = set(mt1[\"RecSes1\"].unique())\n",
    "    dnn1_auc, dnn2_auc, numbers_d1, numbers_d2 = [], [], [], []\n",
    "    for r1 in tqdm(sessions):\n",
    "        for r2 in tqdm(sessions):\n",
    "            if r1>=r2:\n",
    "                continue\n",
    "            dnn1, _, n_dnn1, _ = auc_one_pair(mt1, r1, r2, mt_path=mt_path1, dist_thresh=20)\n",
    "            dnn2, _, n_dnn2, _ = auc_one_pair(mt2, r1, r2, mt_path=mt_path2, dist_thresh=20)\n",
    "            if dnn1 is not None and dnn2 is not None:\n",
    "                dnn1_auc.append(dnn1)\n",
    "                numbers_d1.append(n_dnn1)\n",
    "                dnn2_auc.append(dnn2)\n",
    "                numbers_d2.append(n_dnn2)\n",
    "    return dnn1_auc, numbers_d1, dnn2_auc, numbers_d2\n"
   ]
  },
  {
   "cell_type": "code",
   "execution_count": 4,
   "metadata": {},
   "outputs": [
    {
     "name": "stderr",
     "output_type": "stream",
     "text": [
      "  0%|          | 0/21 [00:00<?, ?it/s]"
     ]
    },
    {
     "name": "stdout",
     "output_type": "stream",
     "text": [
      "no DNN matches found!\n"
     ]
    },
    {
     "name": "stderr",
     "output_type": "stream",
     "text": []
    },
    {
     "name": "stdout",
     "output_type": "stream",
     "text": [
      "no DNN matches found!\n"
     ]
    },
    {
     "name": "stderr",
     "output_type": "stream",
     "text": []
    },
    {
     "name": "stdout",
     "output_type": "stream",
     "text": [
      "no DNN matches found!\n"
     ]
    },
    {
     "name": "stderr",
     "output_type": "stream",
     "text": []
    },
    {
     "name": "stdout",
     "output_type": "stream",
     "text": [
      "no DNN matches found!\n"
     ]
    },
    {
     "name": "stderr",
     "output_type": "stream",
     "text": []
    },
    {
     "name": "stdout",
     "output_type": "stream",
     "text": [
      "no DNN matches found!\n"
     ]
    },
    {
     "name": "stderr",
     "output_type": "stream",
     "text": []
    },
    {
     "name": "stdout",
     "output_type": "stream",
     "text": [
      "no DNN matches found!\n"
     ]
    },
    {
     "name": "stderr",
     "output_type": "stream",
     "text": []
    },
    {
     "name": "stdout",
     "output_type": "stream",
     "text": [
      "no DNN matches found!\n"
     ]
    },
    {
     "name": "stderr",
     "output_type": "stream",
     "text": []
    },
    {
     "name": "stdout",
     "output_type": "stream",
     "text": [
      "no DNN matches found!\n"
     ]
    },
    {
     "name": "stderr",
     "output_type": "stream",
     "text": []
    },
    {
     "name": "stdout",
     "output_type": "stream",
     "text": [
      "no DNN matches found!\n"
     ]
    },
    {
     "name": "stderr",
     "output_type": "stream",
     "text": []
    },
    {
     "name": "stdout",
     "output_type": "stream",
     "text": [
      "no DNN matches found!\n"
     ]
    },
    {
     "name": "stderr",
     "output_type": "stream",
     "text": []
    },
    {
     "name": "stdout",
     "output_type": "stream",
     "text": [
      "no DNN matches found!\n"
     ]
    },
    {
     "name": "stderr",
     "output_type": "stream",
     "text": []
    },
    {
     "name": "stdout",
     "output_type": "stream",
     "text": [
      "no DNN matches found!\n"
     ]
    },
    {
     "name": "stderr",
     "output_type": "stream",
     "text": [
      "100%|██████████| 21/21 [12:23<00:00, 35.42s/it]\n",
      "  5%|▍         | 1/21 [12:23<4:07:55, 743.76s/it]"
     ]
    },
    {
     "name": "stdout",
     "output_type": "stream",
     "text": [
      "no DNN matches found!\n"
     ]
    },
    {
     "name": "stderr",
     "output_type": "stream",
     "text": []
    },
    {
     "name": "stdout",
     "output_type": "stream",
     "text": [
      "no DNN matches found!\n"
     ]
    },
    {
     "name": "stderr",
     "output_type": "stream",
     "text": []
    },
    {
     "name": "stdout",
     "output_type": "stream",
     "text": [
      "no DNN matches found!\n",
      "no DNN matches found!\n"
     ]
    },
    {
     "name": "stderr",
     "output_type": "stream",
     "text": []
    },
    {
     "name": "stdout",
     "output_type": "stream",
     "text": [
      "no DNN matches found!\n"
     ]
    },
    {
     "name": "stderr",
     "output_type": "stream",
     "text": []
    },
    {
     "name": "stdout",
     "output_type": "stream",
     "text": [
      "no DNN matches found!\n"
     ]
    },
    {
     "name": "stderr",
     "output_type": "stream",
     "text": []
    },
    {
     "name": "stdout",
     "output_type": "stream",
     "text": [
      "no DNN matches found!\n"
     ]
    },
    {
     "name": "stderr",
     "output_type": "stream",
     "text": []
    },
    {
     "name": "stdout",
     "output_type": "stream",
     "text": [
      "no DNN matches found!\n"
     ]
    },
    {
     "name": "stderr",
     "output_type": "stream",
     "text": [
      "100%|██████████| 21/21 [10:11<00:00, 29.12s/it]\n",
      " 10%|▉         | 2/21 [22:35<3:30:53, 665.96s/it]"
     ]
    },
    {
     "name": "stdout",
     "output_type": "stream",
     "text": [
      "no DNN matches found!\n"
     ]
    },
    {
     "name": "stderr",
     "output_type": "stream",
     "text": []
    },
    {
     "name": "stdout",
     "output_type": "stream",
     "text": [
      "no DNN matches found!\n"
     ]
    },
    {
     "name": "stderr",
     "output_type": "stream",
     "text": []
    },
    {
     "name": "stdout",
     "output_type": "stream",
     "text": [
      "no DNN matches found!\n"
     ]
    },
    {
     "name": "stderr",
     "output_type": "stream",
     "text": [
      "100%|██████████| 21/21 [07:38<00:00, 21.84s/it]\n",
      "100%|██████████| 21/21 [10:58<00:00, 31.34s/it]t]\n",
      "100%|██████████| 21/21 [09:03<00:00, 25.90s/it]t]\n",
      "100%|██████████| 21/21 [08:06<00:00, 23.16s/it]t]\n",
      "100%|██████████| 21/21 [06:44<00:00, 19.26s/it]t]\n",
      "100%|██████████| 21/21 [05:55<00:00, 16.91s/it]/it]\n",
      "100%|██████████| 21/21 [04:18<00:00, 12.31s/it]/it]\n",
      "100%|██████████| 21/21 [05:19<00:00, 15.22s/it]/it]\n",
      "100%|██████████| 21/21 [04:06<00:00, 11.76s/it]s/it]\n",
      "100%|██████████| 21/21 [03:28<00:00,  9.95s/it]it]  \n",
      "100%|██████████| 21/21 [02:53<00:00,  8.26s/it]it]\n",
      "100%|██████████| 21/21 [02:22<00:00,  6.79s/it]it]\n",
      "100%|██████████| 21/21 [01:45<00:00,  5.02s/it]it]\n",
      "100%|██████████| 21/21 [01:11<00:00,  3.41s/it]it]\n",
      "100%|██████████| 21/21 [00:57<00:00,  2.74s/it]it]\n",
      "100%|██████████| 21/21 [00:36<00:00,  1.71s/it]it]\n",
      "100%|██████████| 21/21 [00:31<00:00,  1.50s/it]t] \n",
      "100%|██████████| 21/21 [00:15<00:00,  1.32it/s]t]\n",
      "100%|██████████| 21/21 [00:00<?, ?it/s]59.22s/it]\n",
      "100%|██████████| 21/21 [1:38:49<00:00, 282.36s/it]\n"
     ]
    }
   ],
   "source": [
    "test_data_root = os.path.join(os.path.dirname(os.path.dirname(os.getcwd())), \"ALL_DATA\")\n",
    "mt_path = os.path.join(test_data_root, \"AL036\", \"19011116882\", \"3\", \"new_matchtable.csv\")\n",
    "mt_path_wentao = os.path.join(test_data_root, \"AL036\", \"19011116882\", \"3\", \"wentao_model.csv\")\n",
    "\n",
    "my_auc, my_n, wen_auc, wen_n = dnn_vs_dnn(mt_path, mt_path_wentao)\n"
   ]
  },
  {
   "cell_type": "code",
   "execution_count": 5,
   "metadata": {},
   "outputs": [
    {
     "data": {
      "image/png": "[encoded data removed]",
      "text/plain": [
       "<Figure size 640x480 with 2 Axes>"
      ]
     },
     "metadata": {},
     "output_type": "display_data"
    }
   ],
   "source": [
    "fig = plt.figure()\n",
    "ax1 = fig.add_subplot(121, aspect='equal')\n",
    "ax1.scatter(my_auc, wen_auc, alpha=0.6)\n",
    "ax1.plot([min(my_auc), max(my_auc)], [min(my_auc), max(my_auc)], 'r--', lw=2)\n",
    "ax1.grid()\n",
    "ax1.set_yticks(np.linspace(0.75, 0.90, 4))\n",
    "ax1.set(title=\"AUC\", xlabel=\"Mine\", ylabel=\"Wentao's\")\n",
    "ax2 = fig.add_subplot(122, aspect='equal')\n",
    "ax2.scatter(my_n, wen_n, alpha=0.6)\n",
    "ax2.plot([min(my_n), max(my_n)], [min(my_n), max(my_n)], 'r--', lw=2)\n",
    "ax2.grid()\n",
    "ax2.set(title=\"Number of matches\", xlabel=\"Mine\", ylabel=\"Wentao's\")\n",
    "fig.tight_layout()\n",
    "plt.show()"
   ]
  },
  {
   "cell_type": "code",
   "execution_count": 52,
   "metadata": {},
   "outputs": [
    {
     "name": "stderr",
     "output_type": "stream",
     "text": [
      "100%|██████████| 441/441 [00:29<00:00, 15.20it/s]\n"
     ]
    }
   ],
   "source": [
    "sessions = mt[\"RecSes1\"].unique()\n",
    "\n",
    "mat = np.zeros((len(sessions), len(sessions)))\n",
    "\n",
    "for i, j in tqdm(np.ndindex(mat.shape), total=len(sessions)**2):\n",
    "    small=mt.loc[(mt[\"RecSes1\"].isin([sessions[i],sessions[j]])) & (mt[\"RecSes2\"].isin([sessions[i],sessions[j]])),:]\n",
    "    med = np.median(small[\"DNNSim\"])\n",
    "    mat[i,j] = med\n"
   ]
  },
  {
   "cell_type": "code",
   "execution_count": 57,
   "metadata": {},
   "outputs": [
    {
     "data": {
      "text/plain": [
       "Text(0.5, 1.0, 'DNNSim medians for AL036 sessions')"
      ]
     },
     "execution_count": 57,
     "metadata": {},
     "output_type": "execute_result"
    },
    {
     "data": {
      "image/png": "[encoded data removed]",
      "text/plain": [
       "<Figure size 480x480 with 2 Axes>"
      ]
     },
     "metadata": {},
     "output_type": "display_data"
    }
   ],
   "source": [
    "cax = plt.matshow(mat)\n",
    "plt.colorbar(cax,fraction=0.046, pad=0.04)\n",
    "plt.title(\"DNNSim medians for AL036 sessions\")"
   ]
  },
  {
   "cell_type": "code",
   "execution_count": null,
   "metadata": {},
   "outputs": [],
   "source": []
  }
 ],
 "metadata": {
  "kernelspec": {
   "display_name": "unitmatch",
   "language": "python",
   "name": "python3"
  },
  "language_info": {
   "codemirror_mode": {
    "name": "ipython",
    "version": 3
   },
   "file_extension": ".py",
   "mimetype": "text/x-python",
   "name": "python",
   "nbconvert_exporter": "python",
   "pygments_lexer": "ipython3",
   "version": "3.12.4"
  }
 },
 "nbformat": 4,
 "nbformat_minor": 2
}
