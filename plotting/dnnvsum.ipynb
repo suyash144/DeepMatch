{
 "cells": [
  {
   "cell_type": "code",
   "execution_count": 2,
   "metadata": {},
   "outputs": [],
   "source": [
    "import sys, os\n",
    "sys.path.insert(0, os.getcwd())\n",
    "sys.path.insert(0, os.path.dirname(os.getcwd()))\n",
    "sys.path.insert(0,os.path.join(os.path.dirname(os.getcwd()), \"testing\"))\n",
    "from testing.isi_corr import *\n",
    "\n",
    "def dnn_vs_um(mt_path:str):\n",
    "    mt = pd.read_csv(mt_path)\n",
    "    sessions = set(mt[\"RecSes1\"].unique())\n",
    "    dnn_auc, um_auc, numbers_d, numbers_u = [], [], [], []\n",
    "    for r1 in tqdm(sessions):\n",
    "        for r2 in tqdm(sessions):\n",
    "            if r1>=r2:\n",
    "                continue\n",
    "            dnn, um, n_dnn, n_um = auc_one_pair(mt, r1, r2, mt_path=mt_path, dist_thresh=20)\n",
    "            if dnn is not None and um is not None:\n",
    "                dnn_auc.append(dnn)\n",
    "                numbers_d.append(n_dnn)\n",
    "                um_auc.append(um)\n",
    "                numbers_u.append(n_um)\n",
    "    fig = plt.figure()\n",
    "    ax1 = fig.add_subplot(121)\n",
    "    ax1.scatter(um_auc, dnn_auc)\n",
    "    ax1.set(title=\"AUC\", xlabel=\"UnitMatch\", ylabel=\"DNN\")\n",
    "    ax2 = fig.add_subplot(122)\n",
    "    ax2.scatter(numbers_u, numbers_d)\n",
    "    ax2.set(title=\"Number of matches\", xlabel=\"UnitMatch\", ylabel=\"DNN\")\n",
    "    fig.tight_layout()\n",
    "    plt.show()"
   ]
  },
  {
   "cell_type": "code",
   "execution_count": 4,
   "metadata": {},
   "outputs": [
    {
     "name": "stderr",
     "output_type": "stream",
     "text": [
      "  0%|          | 0/21 [00:00<?, ?it/s]"
     ]
    }
   ],
   "source": [
    "test_data_root = os.path.join(os.path.dirname(os.path.dirname(os.getcwd())), \"R_DATA_UnitMatch\")\n",
    "mt_path = os.path.join(test_data_root, \"AL036\", \"19011116882\", \"3\", \"new_matchtable.csv\")\n",
    "\n",
    "dnn_vs_um(mt_path)"
   ]
  }
 ],
 "metadata": {
  "kernelspec": {
   "display_name": "unitmatch",
   "language": "python",
   "name": "python3"
  },
  "language_info": {
   "codemirror_mode": {
    "name": "ipython",
    "version": 3
   },
   "file_extension": ".py",
   "mimetype": "text/x-python",
   "name": "python",
   "nbconvert_exporter": "python",
   "pygments_lexer": "ipython3",
   "version": "3.12.4"
  }
 },
 "nbformat": 4,
 "nbformat_minor": 2
}
