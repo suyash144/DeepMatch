{
 "cells": [
  {
   "cell_type": "code",
   "execution_count": 126,
   "metadata": {},
   "outputs": [],
   "source": [
    "import numpy as np\n",
    "import os, sys\n",
    "sys.path.insert(0,os.getcwd())\n",
    "sys.path.insert(0,(os.path.dirname(os.getcwd())))\n",
    "sys.path.insert(0,os.path.join(os.path.dirname(os.getcwd()), \"testing\"))\n",
    "from testing import dnn_dist\n",
    "from testing.isi_corr import *\n",
    "from utils.myutil import mtpath_to_expids, exp_id_to_date\n",
    "import pandas as pd\n",
    "import matplotlib.pyplot as plt\n",
    "from tqdm import tqdm"
   ]
  },
  {
   "cell_type": "code",
   "execution_count": 127,
   "metadata": {},
   "outputs": [],
   "source": [
    "# Plot x and y positions of each neuron pair in matches.\n",
    "test_data_root = os.path.join(os.path.dirname(os.path.dirname(os.getcwd())), \"R_DATA_UnitMatch\")\n",
    "mt_path = os.path.join(test_data_root, \"AL036\", \"19011116882\", \"3\", \"new_matchtable.csv\")\n",
    "# mt_path = os.path.join(test_data_root, \"AL032\", \"19011111882\", \"2\", \"new_matchtable.csv\")\n",
    "mt = pd.read_csv(mt_path)"
   ]
  },
  {
   "cell_type": "code",
   "execution_count": 145,
   "metadata": {},
   "outputs": [],
   "source": [
    "rec1, rec2 = 4,5\n",
    "dnn_metric = \"DNNSim\"\n",
    "um_metric = \"MatchProb\"\n",
    "\n",
    "mt = mt.loc[(mt[\"RecSes1\"].isin([rec1,rec2])) & (mt[\"RecSes2\"].isin([rec1,rec2])),:]\n",
    "thresh = dnn_dist.get_threshold(mt, metric=dnn_metric, vis=False)\n",
    "if um_metric==\"MatchProb\":\n",
    "    thresh_um=0.5\n",
    "else:\n",
    "    if um_metric==\"ScoreExclCentroid\":\n",
    "        col = mt.loc[:, \"WavformSim\":\"LocTrajectorySim\"]\n",
    "        mt[um_metric] = col.mean(axis=1)\n",
    "    thresh_um = dnn_dist.get_threshold(mt, metric=um_metric, vis=False)\n",
    "within = mt.loc[(mt[\"RecSes1\"]==mt[\"RecSes2\"]), [dnn_metric, \"ISICorr\", \"ID1\", \"ID2\", um_metric, \"RecSes1\", \"RecSes2\"]]\n",
    "across = mt.loc[(mt[\"RecSes1\"]!=mt[\"RecSes2\"]), [dnn_metric, \"ISICorr\", um_metric, \"RecSes1\", \"RecSes2\", \"ID1\", \"ID2\"]]\n",
    "# Correct for different median similarities between within- and across-day sets.\n",
    "diff = np.median(within[dnn_metric]) - np.median(across[dnn_metric])\n",
    "thresh = thresh - diff\n",
    "diff_um = np.median(within[um_metric]) - np.median(across[um_metric])\n",
    "thresh_um = thresh_um - diff_um\n",
    "\n",
    "# Apply thresholds to generate matches for DNN and UnitMatch respectively\n",
    "matches_across = across.loc[mt[dnn_metric]>=thresh, [\"ISICorr\", \"RecSes1\", \"RecSes2\", \"ID1\", \"ID2\", dnn_metric]]\n",
    "um_matches = across.loc[mt[um_metric]>=thresh_um, [\"ISICorr\", \"RecSes1\", \"RecSes2\", \"ID1\", \"ID2\", um_metric]]\n",
    "\n",
    "# Only allow a match if it is above threshold when comparing in both directions\n",
    "matches_across = directional_filter(matches_across)\n",
    "um_matches = directional_filter(um_matches)\n",
    "if len(matches_across)==0:\n",
    "    print(\"no DNN matches found!\")\n",
    "# Do spatial filtering in DNN\n",
    "# Remove split units from each set of matches\n",
    "matches_across = remove_split_units(mt_path, within, matches_across, thresh, \"DNNSim\")\n",
    "um_matches = remove_split_units(mt_path, within, um_matches, thresh_um, \"MatchProb\")\n",
    "\n",
    "filtered_matches = spatial_filter(mt_path, matches_across, 20, plot_drift=False)\n"
   ]
  },
  {
   "cell_type": "code",
   "execution_count": 138,
   "metadata": {},
   "outputs": [],
   "source": [
    "exp_ids, metadata = mtpath_to_expids(mt_path, matches_across)\n",
    "test_data_root = mt_path[:mt_path.find(metadata[\"mouse\"])]\n",
    "positions = {}\n",
    "for recses, exp_id in exp_ids.items():\n",
    "    fp = os.path.join(test_data_root, metadata[\"mouse\"], metadata[\"probe\"], \n",
    "                        metadata[\"loc\"], exp_id, \"processed_waveforms\")\n",
    "    pos_dict = read_pos(fp)\n",
    "    positions[recses] = pd.DataFrame(pos_dict)\n",
    "corrections = get_corrections(matches_across, positions)"
   ]
  },
  {
   "cell_type": "code",
   "execution_count": 129,
   "metadata": {},
   "outputs": [],
   "source": [
    "exp_ids, metadata = mtpath_to_expids(mt_path, matches_across)\n",
    "test_data_root = mt_path[:mt_path.find(metadata[\"mouse\"])]\n",
    "positions = {}\n",
    "for recses, exp_id in exp_ids.items():\n",
    "    fp = os.path.join(test_data_root, metadata[\"mouse\"], metadata[\"probe\"], \n",
    "                        metadata[\"loc\"], exp_id, \"processed_waveforms\")\n",
    "    pos_dict = read_pos(fp)\n",
    "    positions[recses] = pd.DataFrame(pos_dict)"
   ]
  },
  {
   "cell_type": "code",
   "execution_count": 130,
   "metadata": {},
   "outputs": [],
   "source": [
    "def shank_filter(matches, positions):\n",
    "    drops = []\n",
    "    for idx, row in matches.iterrows():\n",
    "        df1 = positions[row[\"RecSes1\"]]\n",
    "        df2 = positions[row[\"RecSes2\"]]\n",
    "        pos1=df1.loc[df1[\"file\"]==row[\"ID1\"]]\n",
    "        pos2=df2.loc[df2[\"file\"]==row[\"ID2\"]]\n",
    "        if pos1[\"x\"].item() != pos2[\"x\"].item():\n",
    "            drops.append(idx)\n",
    "    output = matches.drop(drops)\n",
    "    return output\n",
    "\n",
    "shank_filtered = shank_filter(matches_across, positions)"
   ]
  },
  {
   "cell_type": "code",
   "execution_count": 157,
   "metadata": {},
   "outputs": [],
   "source": [
    "# matches_across.insert(len(matches_across.columns), \"x1\", '')\n",
    "# matches_across.insert(len(matches_across.columns), \"x2\", '')\n",
    "# matches_across.insert(len(matches_across.columns), \"y1\", '')\n",
    "# matches_across.insert(len(matches_across.columns), \"y2\", '')\n",
    "# matches_across\n",
    "# for idx, match in matches_across.iterrows():\n",
    "#     df1 = positions[match[\"RecSes1\"]]\n",
    "#     df2 = positions[match[\"RecSes2\"]]\n",
    "#     pos1=df1.loc[df1[\"file\"]==match[\"ID1\"]]\n",
    "#     pos2=df2.loc[df2[\"file\"]==match[\"ID2\"]]\n",
    "#     matches_across.at[idx, \"x1\"] = pos1[\"x\"].item()\n",
    "#     matches_across.at[idx, \"y1\"] = pos1[\"y\"].item()\n",
    "#     matches_across.at[idx, \"x2\"] = pos2[\"x\"].item()\n",
    "#     matches_across.at[idx, \"y2\"] = pos2[\"y\"].item()\n",
    "\n",
    "def add_pos(df):\n",
    "    df.insert(len(df.columns), \"x1\", '')\n",
    "    df.insert(len(df.columns), \"x2\", '')\n",
    "    df.insert(len(df.columns), \"y1\", '')\n",
    "    df.insert(len(df.columns), \"y2\", '')\n",
    "    for idx, match in df.iterrows():\n",
    "        df1 = positions[match[\"RecSes1\"]]\n",
    "        df2 = positions[match[\"RecSes2\"]]\n",
    "        pos1=df1.loc[df1[\"file\"]==match[\"ID1\"]]\n",
    "        pos2=df2.loc[df2[\"file\"]==match[\"ID2\"]]\n",
    "        df.at[idx, \"x1\"] = pos1[\"x\"].item()\n",
    "        df.at[idx, \"y1\"] = pos1[\"y\"].item()\n",
    "        df.at[idx, \"x2\"] = pos2[\"x\"].item()\n",
    "        df.at[idx, \"y2\"] = pos2[\"y\"].item()\n",
    "    return df\n",
    "\n",
    "def add_dc_pos(df):\n",
    "    'Adds drift corrected positions rather than raw positions.'\n",
    "    df.insert(len(df.columns), \"y2dc\", '')\n",
    "    for idx, match in df.iterrows():\n",
    "        df1 = positions[match[\"RecSes1\"]]\n",
    "        df2 = positions[match[\"RecSes2\"]]\n",
    "        pos1=df1.loc[df1[\"file\"]==match[\"ID1\"]]\n",
    "        pos2=df2.loc[df2[\"file\"]==match[\"ID2\"]]\n",
    "        correction = corrections.loc[(corrections[\"rec1\"]==match[\"RecSes1\"]) & (corrections[\"rec2\"]==match[\"RecSes2\"]) \n",
    "                                     & (corrections[\"shank\"]==round(match[\"x1\"], -2)), \"ydiff\"]\n",
    "        df.at[idx, \"y2dc\"] = pos2[\"y\"].item() - correction.item()\n",
    "    return df\n",
    "# across_samples = across.sample(10)\n",
    "\n",
    "\n",
    "# for idx, match in across_samples.iterrows():\n",
    "#     df1 = positions[match[\"RecSes1\"]]\n",
    "#     df2 = positions[match[\"RecSes2\"]]\n",
    "#     pos1=df1.loc[df1[\"file\"]==match[\"ID1\"]]\n",
    "#     pos2=df2.loc[df2[\"file\"]==match[\"ID2\"]]\n",
    "#     across_samples.at[idx, \"x1\"] = pos1[\"x\"].item()\n",
    "#     across_samples.at[idx, \"y1\"] = pos1[\"y\"].item()\n",
    "#     across_samples.at[idx, \"x2\"] = pos2[\"x\"].item()\n",
    "#     across_samples.at[idx, \"y2\"] = pos2[\"y\"].item()\n",
    "\n",
    "# no_dc.insert(len(no_dc.columns), \"x1\", '')\n",
    "# no_dc.insert(len(no_dc.columns), \"x2\", '')\n",
    "# no_dc.insert(len(no_dc.columns), \"y1\", '')\n",
    "# no_dc.insert(len(no_dc.columns), \"y2\", '')\n",
    "\n",
    "# for idx, match in no_dc.iterrows():\n",
    "#     df1 = positions[match[\"RecSes1\"]]\n",
    "#     df2 = positions[match[\"RecSes2\"]]\n",
    "#     pos1=df1.loc[df1[\"file\"]==match[\"ID1\"]]\n",
    "#     pos2=df2.loc[df2[\"file\"]==match[\"ID2\"]]\n",
    "#     no_dc.at[idx, \"x1\"] = pos1[\"x\"].item()\n",
    "#     no_dc.at[idx, \"y1\"] = pos1[\"y\"].item()\n",
    "#     no_dc.at[idx, \"x2\"] = pos2[\"x\"].item()\n",
    "#     no_dc.at[idx, \"y2\"] = pos2[\"y\"].item()\n",
    "\n",
    "# filtered_matches = add_pos(filtered_matches)\n",
    "# shank_filtered = add_pos(shank_filtered)\n",
    "# filtered_matches = add_dc_pos(filtered_matches)\n",
    "# matches_across = add_pos(matches_across)\n",
    "# matches_across = add_dc_pos(matches_across)\n",
    "\n",
    "# Just to add the distance column to these ones to check APDs\n",
    "# matches_across = spatial_filter(mt_path, matches_across, 1e10, False, False)\n",
    "shank_filtered = spatial_filter(mt_path, shank_filtered, 1e10, False, False)"
   ]
  },
  {
   "cell_type": "code",
   "execution_count": 159,
   "metadata": {},
   "outputs": [
    {
     "data": {
      "image/png": "[encoded data removed]",
      "text/plain": [
       "<Figure size 640x480 with 1 Axes>"
      ]
     },
     "metadata": {},
     "output_type": "display_data"
    }
   ],
   "source": [
    "one_way = filtered_matches.loc[(filtered_matches[\"RecSes1\"]==rec1) & (filtered_matches[\"RecSes2\"]==rec2)]\n",
    "one_way_no_spatial = matches_across.loc[(matches_across[\"RecSes1\"]==rec1) & (matches_across[\"RecSes2\"]==rec2)]\n",
    "shank_filtered_one_way = shank_filtered.loc[(shank_filtered[\"RecSes1\"]==rec1) & (shank_filtered[\"RecSes2\"]==rec2)]\n",
    "for idx, row in one_way.iterrows():\n",
    "    plt.plot([row[\"x1\"], row[\"x2\"]], [row[\"y1\"], row[\"y2dc\"]])\n",
    "# for idx, row in across_samples.iterrows():\n",
    "#     plt.plot([row[\"x1\"], row[\"x2\"]], [row[\"y1\"], row[\"y2\"]])\n",
    "plt.scatter(one_way[\"x2\"], one_way[\"y2dc\"], s=1, label=\"Final position\", marker='*')\n",
    "plt.xlabel(\"x\")\n",
    "plt.ylabel(\"y\")\n",
    "plt.legend()\n",
    "plt.show()\n"
   ]
  },
  {
   "cell_type": "code",
   "execution_count": 167,
   "metadata": {},
   "outputs": [
    {
     "data": {
      "image/png": "[encoded data removed]",
      "text/plain": [
       "<Figure size 640x480 with 1 Axes>"
      ]
     },
     "metadata": {},
     "output_type": "display_data"
    }
   ],
   "source": [
    "d0 = one_way.loc[one_way[\"dist\"]==0]\n",
    "d15 = one_way.loc[one_way[\"dist\"]==15]\n",
    "\n",
    "plt.hist(d0[\"ISICorr\"], alpha=0.3, bins=20, label=\"Distance = 0\")\n",
    "plt.hist(d15[\"ISICorr\"], alpha=0.3, bins=20, label=\"Distance = 15\")\n",
    "plt.legend()\n",
    "plt.xlabel(\"ISI Correlation\")\n",
    "plt.grid()\n"
   ]
  },
  {
   "cell_type": "code",
   "execution_count": 166,
   "metadata": {},
   "outputs": [],
   "source": [
    "def conflicts(matches):\n",
    "    conflicts = []\n",
    "    for idx, match in matches.iterrows():\n",
    "        id1 = match[\"ID1\"]\n",
    "        id2 = match[\"ID2\"]\n",
    "        r1 = match[\"RecSes1\"]\n",
    "        r2 = match[\"RecSes2\"]\n",
    "\n",
    "        neuron1=matches.loc[(matches[\"ID1\"]==id1) & (matches[\"RecSes1\"]==r1),:]\n",
    "        if len(neuron1)>1:\n",
    "            conflicts.append((r1,id1,r2,id2))\n",
    "        \n",
    "        neuron2=matches.loc[(matches[\"ID2\"]==id2) & (matches[\"RecSes2\"]==r2),:]\n",
    "        if len(neuron2)>1:\n",
    "            conflicts.append((r1,id1,r2,id2))\n",
    "    return set(conflicts)\n",
    "\n",
    "conflicts = conflicts(one_way)"
   ]
  }
 ],
 "metadata": {
  "kernelspec": {
   "display_name": "unitmatch",
   "language": "python",
   "name": "python3"
  },
  "language_info": {
   "codemirror_mode": {
    "name": "ipython",
    "version": 3
   },
   "file_extension": ".py",
   "mimetype": "text/x-python",
   "name": "python",
   "nbconvert_exporter": "python",
   "pygments_lexer": "ipython3",
   "version": "3.12.4"
  }
 },
 "nbformat": 4,
 "nbformat_minor": 2
}
