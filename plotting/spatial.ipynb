{
 "cells": [
  {
   "cell_type": "code",
   "execution_count": 1,
   "metadata": {},
   "outputs": [],
   "source": [
    "# NOTEBOOK TO DEVELOP AND TEST THE NEW SPATIAL INFORMATION METHODS\n",
    "import sys, os\n",
    "sys.path.insert(0, os.getcwd())\n",
    "sys.path.insert(0, os.path.dirname(os.getcwd()))\n",
    "sys.path.insert(0,os.path.join(os.path.dirname(os.getcwd()), \"testing\"))\n",
    "from testing.isi_corr import *"
   ]
  },
  {
   "cell_type": "code",
   "execution_count": 7,
   "metadata": {},
   "outputs": [],
   "source": [
    "# First, look at pairwise distances between matches that we currently get out.\n",
    "test_data_root = os.path.join(os.path.dirname(os.path.dirname(os.getcwd())), \"R_DATA_UnitMatch\")\n",
    "mt_path = os.path.join(test_data_root, \"AL031\", \"19011116684\", \"1\", \"new_matchtable.csv\")\n",
    "mt = pd.read_csv(mt_path)\n",
    "\n",
    "def get_matches(mt:pd.DataFrame, rec1:int, rec2:int, dnn_metric:str=\"DNNSim\", \n",
    "                 um_metric:str=\"MatchProb\", dist_thresh=20, mt_path=None):\n",
    "    mt = mt.loc[(mt[\"RecSes1\"].isin([rec1,rec2])) & (mt[\"RecSes2\"].isin([rec1,rec2])),:]\n",
    "    if len(mt) < 40:\n",
    "        return None, None, None, None\n",
    "    try:\n",
    "        thresh = dnn_dist.get_threshold(mt, metric=dnn_metric, vis=False)\n",
    "    except:\n",
    "        return None, None, None, None\n",
    "    if um_metric==\"MatchProb\":\n",
    "        thresh_um=0.5\n",
    "    else:\n",
    "        if um_metric==\"ScoreExclCentroid\":\n",
    "            col = mt.loc[:, \"WavformSim\":\"LocTrajectorySim\"]\n",
    "            mt[um_metric] = col.mean(axis=1)\n",
    "        thresh_um = dnn_dist.get_threshold(mt, metric=um_metric, vis=False)\n",
    "    within = mt.loc[(mt[\"RecSes1\"]==mt[\"RecSes2\"]), [dnn_metric, \"ISICorr\", \"ID1\", \"ID2\", um_metric, \"RecSes1\", \"RecSes2\"]]\n",
    "    across = mt.loc[(mt[\"RecSes1\"]!=mt[\"RecSes2\"]), [dnn_metric, \"ISICorr\", um_metric, \"RecSes1\", \"RecSes2\", \"ID1\", \"ID2\"]]\n",
    "\n",
    "    # Correct for different median similarities between within- and across-day sets.\n",
    "    diff = np.median(within[dnn_metric]) - np.median(across[dnn_metric])\n",
    "    thresh = thresh - diff\n",
    "    diff_um = np.median(within[um_metric]) - np.median(across[um_metric])\n",
    "    thresh_um = thresh_um - diff_um\n",
    "\n",
    "    # Apply thresholds to generate matches for DNN and UnitMatch respectively\n",
    "    matches_across = across.loc[mt[dnn_metric]>=thresh, [\"ISICorr\", \"RecSes1\", \"RecSes2\", \"ID1\", \"ID2\", dnn_metric]]\n",
    "    um_matches = across.loc[mt[um_metric]>=thresh_um, [\"ISICorr\", \"RecSes1\", \"RecSes2\", \"ID1\", \"ID2\", um_metric]]\n",
    "\n",
    "    return matches_across, um_matches, within, thresh, thresh_um\n",
    "\n",
    "matches_across, um_matches, within, thresh, thresh_um = get_matches(mt, 1,2)"
   ]
  },
  {
   "cell_type": "code",
   "execution_count": 12,
   "metadata": {},
   "outputs": [],
   "source": [
    "filtered = spatial_filter(mt_path, matches_across, 20, True, False)"
   ]
  },
  {
   "cell_type": "code",
   "execution_count": 16,
   "metadata": {},
   "outputs": [
    {
     "data": {
      "text/plain": [
       "(array([166.,   0.,   0.,   0.,   0.,   0.,   0.,   0.,   0.,  17.]),\n",
       " array([ 0. ,  1.5,  3. ,  4.5,  6. ,  7.5,  9. , 10.5, 12. , 13.5, 15. ]),\n",
       " <BarContainer object of 10 artists>)"
      ]
     },
     "execution_count": 16,
     "metadata": {},
     "output_type": "execute_result"
    },
    {
     "data": {
      "image/png": "[encoded data removed]",
      "text/plain": [
       "<Figure size 640x480 with 1 Axes>"
      ]
     },
     "metadata": {},
     "output_type": "display_data"
    }
   ],
   "source": [
    "plt.hist(filtered[\"dist\"])\n",
    "# After filtering, we have 183 matches, of which 166 have dc_dist=0, and 17 have dc_dist=15"
   ]
  }
 ],
 "metadata": {
  "kernelspec": {
   "display_name": "unitmatch",
   "language": "python",
   "name": "python3"
  },
  "language_info": {
   "codemirror_mode": {
    "name": "ipython",
    "version": 3
   },
   "file_extension": ".py",
   "mimetype": "text/x-python",
   "name": "python",
   "nbconvert_exporter": "python",
   "pygments_lexer": "ipython3",
   "version": "3.12.4"
  }
 },
 "nbformat": 4,
 "nbformat_minor": 2
}
