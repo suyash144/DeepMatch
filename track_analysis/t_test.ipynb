{
 "cells": [
  {
   "cell_type": "code",
   "execution_count": 1,
   "metadata": {},
   "outputs": [],
   "source": [
    "import numpy as np\n",
    "import matplotlib.pyplot as plt\n",
    "import scipy.stats as stats"
   ]
  },
  {
   "cell_type": "code",
   "execution_count": 4,
   "metadata": {},
   "outputs": [],
   "source": [
    "a = np.array([1, 2, 1.5, 1.2, 1.6, 1.4, 1.3, 1.5, 1.7, 1.8])\n",
    "b = np.array([1.1, 2.1, 1.6, 1.3, 1.7, 1.5, 1.4, 1.6, 1.8, 1.9]) + 1\n",
    "c = np.array([1.2, 2.2, 1.7, 1.4, 1.8, 1.6, 1.5, 1.7, 1.9, 2.0]) + 2"
   ]
  },
  {
   "cell_type": "code",
   "execution_count": 12,
   "metadata": {},
   "outputs": [
    {
     "data": {
      "image/png": "[encoded data removed]",
      "text/plain": [
       "<Figure size 600x600 with 1 Axes>"
      ]
     },
     "metadata": {},
     "output_type": "display_data"
    }
   ],
   "source": [
    "### statistics for unique/AllMethod ratio of the methods\n",
    "# Perform independent t-tests\n",
    "ttest_1_2 = stats.ttest_ind(a, b, equal_var=False)\n",
    "ttest_1_3 = stats.ttest_ind(a, c, equal_var=False)\n",
    "ttest_2_3 = stats.ttest_ind(b, c, equal_var=False)\n",
    "\n",
    "# Create bar plot with error bars\n",
    "means = [np.mean(a), np.mean(b), np.mean(c)]\n",
    "sems = [stats.sem(a), stats.sem(b), stats.sem(c)]\n",
    "labels = ['1', '2', '3']\n",
    "def add_significance_text(ax, x1, x2, y, h, p_value, offset_index):\n",
    "    \"\"\"\n",
    "    Add a line and significance label ('ns' for not significant, '*' for significant) \n",
    "    between two bars at staggered heights.\n",
    "    \n",
    "    Parameters:\n",
    "    ax: The axis object to add the annotation to.\n",
    "    x1, x2: The x positions of the bars to compare.\n",
    "    y: The y position of the line end.\n",
    "    h: The height of the lines connecting the bars.\n",
    "    p_value: The p-value used to determine if a star should be added.\n",
    "    offset_index: The index to determine the height offset for staggered lines.\n",
    "    \"\"\"\n",
    "    # Stagger the heights of the lines\n",
    "    stagger = 0.05 * offset_index\n",
    "    ax.plot([x1, x1, x2, x2], [y+h+stagger, y+stagger, y+stagger, y+h+stagger], lw=0.5, c='k')\n",
    "    # Based on the p-value, choose the label\n",
    "    # label = '*' if p_value < 0.05 else 'ns'\n",
    "    # if p_value >= 0.05:\n",
    "    #     label = 'ns'\n",
    "    # elif p_value<0.05 and p_value>=0.01:\n",
    "    #     label = '*'\n",
    "    # elif p_value<0.01 and p_value>=0.001:\n",
    "    #     label = '**'\n",
    "    # else:\n",
    "    #     label = '***'\n",
    "    # Output to the fourth decimal place\n",
    "    p_value = round(p_value, 4)\n",
    "    label = 'p = ' + str(p_value)\n",
    "    # labelname = 'p = ' + str(p_value)\n",
    "    # label = labelname if p_value < 0.05 else 'ns'\n",
    "    ax.text((x1+x2)*0.5, y+h+stagger, label, ha='center', va='bottom', color='k')\n",
    "\n",
    "# Create a new plot with staggered significance lines\n",
    "fig, ax = plt.subplots(figsize=(6, 6))\n",
    "\n",
    "# Bar plot\n",
    "bars = ax.bar(labels, means, yerr=sems, capsize=10, color=['blue', 'orange', 'grey'], alpha=0.5)\n",
    "\n",
    "# Calculate the y position for the significance line, which will be above the error bars\n",
    "y_offsets = [sem * 1.5 for sem in sems]  # This will be the distance above the error bars\n",
    "y_values = [mean + offset for mean, offset in zip(means, y_offsets)]\n",
    "\n",
    "# The maximum y value for drawing the significance lines\n",
    "max_y = max(y_values) + 0.02\n",
    "\n",
    "# Add staggered significance lines\n",
    "# The offset_index parameter will stagger the heights of the significance lines\n",
    "add_significance_text(ax, 0, 1, max_y, 0.2, ttest_1_2.pvalue, 1)\n",
    "add_significance_text(ax, 1, 2, max_y, 0.2, ttest_2_3.pvalue, 2)\n",
    "add_significance_text(ax, 0, 2, max_y, 0.2, ttest_1_3.pvalue, 3)\n",
    "\n",
    "# Set labels and title\n",
    "ax.set_ylabel('y', fontsize=16)\n",
    "ax.set_title('title', fontsize=18)\n",
    "ax.set_xticks(range(len(labels)))\n",
    "ax.set_xticklabels(['a', 'b', 'c'])\n",
    "ax.tick_params(axis='x', labelsize=16)\n",
    "plt.show()\n"
   ]
  }
 ],
 "metadata": {
  "kernelspec": {
   "display_name": "mytorch",
   "language": "python",
   "name": "python3"
  },
  "language_info": {
   "codemirror_mode": {
    "name": "ipython",
    "version": 3
   },
   "file_extension": ".py",
   "mimetype": "text/x-python",
   "name": "python",
   "nbconvert_exporter": "python",
   "pygments_lexer": "ipython3",
   "version": "3.10.10"
  }
 },
 "nbformat": 4,
 "nbformat_minor": 2
}
