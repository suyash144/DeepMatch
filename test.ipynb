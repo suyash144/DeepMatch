{
 "cells": [
  {
   "cell_type": "code",
   "execution_count": 1,
   "metadata": {},
   "outputs": [],
   "source": [
    "import numpy as np\n",
    "from scipy.signal import detrend\n",
    "import scipy as sp"
   ]
  },
  {
   "cell_type": "code",
   "execution_count": 2,
   "metadata": {},
   "outputs": [
    {
     "name": "stdout",
     "output_type": "stream",
     "text": [
      "len unique_id: 621\n",
      "len original_clus_id: 621\n"
     ]
    }
   ],
   "source": [
    "import h5py\n",
    "def read_mat_file_v73(file_path):\n",
    "    # Open the HDF5 MATLAB file\n",
    "    with h5py.File(file_path, 'r') as f:\n",
    "        # Access the 'UniqueIDConversion' struct\n",
    "        unique_id_conversion = f['UniqueIDConversion']\n",
    "\n",
    "        # Extract the fields from the struct\n",
    "        unique_id = unique_id_conversion['UniqueID'][()].flatten()  # Assuming UniqueID is stored as 1xN\n",
    "        original_clus_id = unique_id_conversion['OriginalClusID'][()].flatten()  # Assuming OriginalClusID is stored as Nx1\n",
    "        recses_all = unique_id_conversion['recsesAll'][()].flatten()  # Assuming recsesAll is stored as Nx1\n",
    "        good_id = unique_id_conversion['GoodID'][()].flatten()  # Assuming GoodID is stored as 1xN\n",
    "        unique_id = np.round(unique_id).astype(int) # Convert to int\n",
    "        original_clus_id = original_clus_id.astype(int)\n",
    "        recses_all = recses_all.astype(int)\n",
    "        good_id = good_id.astype(bool)\n",
    "        return unique_id, original_clus_id, recses_all, good_id\n",
    "\n",
    "# Use the function\n",
    "path = 'F:/UCL/\\kenneth_harris/code/Save_UnitMatch/AV007/session_pair_2'\n",
    "filename = 'UnitMatch.mat'  # Update this with the actual path to your .mat file\n",
    "file_path = path + '/' + filename\n",
    "unique_id, original_clus_id, recses_all, good_id = read_mat_file_v73(file_path)\n",
    "\n",
    "# If you want to print the variables to verify, you can uncomment the following lines:\n",
    "# print(\"UniqueID:\", unique_id)\n",
    "# print(\"OriginalClusID:\", original_clus_id)\n",
    "# print(\"recsesAll:\", recses_all)\n",
    "# print(\"GoodID:\", good_id)\n",
    "# # print dtype\n",
    "# print(\"UniqueID dtype:\", unique_id.dtype)\n",
    "# print(\"OriginalClusID dtype:\", original_clus_id.dtype)\n",
    "# print(\"recsesAll dtype:\", recses_all.dtype)\n",
    "# print(\"GoodID dtype:\", good_id.dtype)\n",
    "print('len unique_id:', len(unique_id))\n",
    "print('len original_clus_id:', len(original_clus_id))\n"
   ]
  },
  {
   "cell_type": "code",
   "execution_count": 3,
   "metadata": {},
   "outputs": [
    {
     "name": "stdout",
     "output_type": "stream",
     "text": [
      "len UniqueID: 298\n",
      "len OriID: 298\n"
     ]
    }
   ],
   "source": [
    "UniqueID = unique_id[good_id] # the unique ID (across sessions), begins from 1\n",
    "OriID = original_clus_id[good_id] # the original ID (for each session), begins from 0\n",
    "recses = recses_all[good_id]\n",
    "print('len UniqueID:', len(UniqueID))   \n",
    "print('len OriID:', len(OriID))"
   ]
  },
  {
   "cell_type": "code",
   "execution_count": 4,
   "metadata": {},
   "outputs": [
    {
     "name": "stdout",
     "output_type": "stream",
     "text": [
      "[array([  1, 263], dtype=int64), array([  3, 146], dtype=int64), array([  4, 265], dtype=int64), array([  5, 147], dtype=int64), array([  6, 149], dtype=int64), array([ 11, 152], dtype=int64), array([ 12, 154], dtype=int64), array([ 13, 155], dtype=int64), array([ 14, 157], dtype=int64), array([ 17, 270], dtype=int64), array([ 18, 165], dtype=int64), array([ 19, 166], dtype=int64), array([ 20, 169], dtype=int64), array([ 21, 170], dtype=int64), array([ 23, 172], dtype=int64), array([ 24, 176], dtype=int64), array([ 25, 174], dtype=int64), array([ 26, 177], dtype=int64), array([ 27, 175], dtype=int64), array([ 28, 178, 183], dtype=int64), array([ 29, 179], dtype=int64), array([ 31, 181], dtype=int64), array([ 32, 274], dtype=int64), array([ 33, 182], dtype=int64), array([ 34, 184], dtype=int64), array([ 35, 297], dtype=int64), array([ 36,  38, 185, 186], dtype=int64), array([ 37, 187], dtype=int64), array([ 40,  42, 188, 189], dtype=int64), array([ 41, 276], dtype=int64), array([ 43, 191], dtype=int64), array([ 45, 192], dtype=int64), array([ 46,  47, 194], dtype=int64), array([ 49, 168], dtype=int64), array([ 51, 198], dtype=int64), array([ 52, 200], dtype=int64), array([ 55, 205], dtype=int64), array([ 56, 204], dtype=int64), array([ 57, 207], dtype=int64), array([ 60, 209], dtype=int64), array([ 61,  64, 213, 215], dtype=int64), array([ 62, 212], dtype=int64), array([ 65, 217], dtype=int64), array([ 66, 218], dtype=int64), array([ 67, 216], dtype=int64), array([ 68, 211], dtype=int64), array([ 71, 220], dtype=int64), array([ 74, 228], dtype=int64), array([ 76, 229], dtype=int64), array([ 77, 231], dtype=int64), array([ 78, 230], dtype=int64), array([ 79, 232], dtype=int64), array([ 80, 233], dtype=int64), array([ 82, 290], dtype=int64), array([ 84, 237], dtype=int64), array([ 85, 240], dtype=int64), array([ 87, 241, 243], dtype=int64), array([ 88, 291], dtype=int64), array([ 89, 298], dtype=int64), array([ 90, 247], dtype=int64), array([ 91, 249], dtype=int64), array([ 92, 248], dtype=int64), array([ 93, 293], dtype=int64), array([ 94, 134, 251], dtype=int64), array([ 95, 252], dtype=int64), array([ 97, 295], dtype=int64), array([ 99, 254], dtype=int64), array([100, 258, 296], dtype=int64), array([101, 256], dtype=int64), array([103, 260], dtype=int64), array([104, 259], dtype=int64), array([105, 261], dtype=int64), array([106, 257], dtype=int64), array([109, 153], dtype=int64), array([110, 158], dtype=int64), array([112, 162], dtype=int64), array([115, 173], dtype=int64), array([117, 180], dtype=int64), array([118, 190], dtype=int64), array([119, 279], dtype=int64), array([120, 201], dtype=int64), array([121, 202], dtype=int64), array([122, 282], dtype=int64), array([123, 283], dtype=int64), array([124, 284], dtype=int64), array([126, 224], dtype=int64), array([128, 287], dtype=int64), array([130, 234], dtype=int64), array([132, 246, 292], dtype=int64), array([135, 255], dtype=int64), array([138, 268], dtype=int64), array([140, 286], dtype=int64), array([141, 288], dtype=int64), array([196, 278], dtype=int64)]\n"
     ]
    }
   ],
   "source": [
    "import numpy as np\n",
    "\n",
    "uId = np.unique(UniqueID)  # Equivalent to MATLAB's `unique`\n",
    "# Step 2: For each unique element in uId, find the indices in UniqueID where UniqueID equals the element\n",
    "# This step uses a list comprehension as an equivalent to MATLAB's `arrayfun`\n",
    "Pairs = [np.where(UniqueID == x)[0]+1 for x in uId] # +1 because matlab index starts from 1\n",
    "# Step 3: Remove elements from Pairs that contain only one index\n",
    "# This uses another list comprehension to filter out any array in Pairs with length 1\n",
    "Pairs = [pair for pair in Pairs if len(pair) > 1]\n",
    "# The result is stored in Pairs, which is now a list of numpy arrays. Each array contains indices of UniqueID where the value is repeated\n",
    "print(Pairs)"
   ]
  },
  {
   "cell_type": "code",
   "execution_count": 5,
   "metadata": {},
   "outputs": [],
   "source": [
    "import os\n",
    "import pandas as pd\n",
    "\n",
    "filename = 'MatchTable.csv'\n",
    "file_path = path + '/' + filename\n",
    "MatchTable = pd.read_csv(file_path)"
   ]
  },
  {
   "cell_type": "code",
   "execution_count": 6,
   "metadata": {},
   "outputs": [],
   "source": [
    "def find_index_list(arr, x):\n",
    "    try:\n",
    "        return arr.index(x)\n",
    "    except ValueError:\n",
    "        return -1  #\n",
    "\n",
    "def find_index_np(arr, x):\n",
    "    # Find the indices where the condition is True\n",
    "    indices = np.where(arr == x)\n",
    "    # np.where() returns a tuple with arrays. For a 1D array, we just need the first element\n",
    "    indices = indices[0]\n",
    "    # Check if the indices array is not empty, which means the element was found\n",
    "    if indices.size > 0:\n",
    "        return indices[0]  # Return the first index where the value is x\n",
    "    else:\n",
    "        return -1 "
   ]
  },
  {
   "cell_type": "code",
   "execution_count": 7,
   "metadata": {},
   "outputs": [
    {
     "name": "stdout",
     "output_type": "stream",
     "text": [
      "uid 404 oriid 104 ses 2\n",
      "uid 404 oriid 261 ses 2\n"
     ]
    }
   ],
   "source": [
    "# mat_n1,mat_n2\n",
    "mat_n1 = 196\n",
    "mat_n2 = 278\n",
    "py_n1 = mat_n1 - 1\n",
    "py_n2 = mat_n2 - 1\n",
    "uid_1 = UniqueID[py_n1]\n",
    "oriid_1 = OriID[py_n1]\n",
    "ses_1 = recses[py_n1]\n",
    "print('uid', uid_1, 'oriid', oriid_1, 'ses', ses_1)\n",
    "uid_2 = UniqueID[py_n2]\n",
    "oriid_2 = OriID[py_n2]\n",
    "ses_2 = recses[py_n2]\n",
    "print('uid', uid_2, 'oriid', oriid_2, 'ses', ses_2)\n"
   ]
  }
 ],
 "metadata": {
  "kernelspec": {
   "display_name": "mytorch",
   "language": "python",
   "name": "python3"
  },
  "language_info": {
   "codemirror_mode": {
    "name": "ipython",
    "version": 3
   },
   "file_extension": ".py",
   "mimetype": "text/x-python",
   "name": "python",
   "nbconvert_exporter": "python",
   "pygments_lexer": "ipython3",
   "version": "3.10.10"
  }
 },
 "nbformat": 4,
 "nbformat_minor": 2
}
